{
 "cells": [
  {
   "cell_type": "code",
   "execution_count": 28,
   "id": "792f59b6",
   "metadata": {},
   "outputs": [
    {
     "name": "stdout",
     "output_type": "stream",
     "text": [
      "Most populous county:\n",
      "County      Los Angeles County\n",
      "State               California\n",
      "TotalPop              10105722\n",
      "Name: 1757, dtype: object\n",
      "Least populous county:\n",
      "County      Loving County\n",
      "State               Texas\n",
      "TotalPop               74\n",
      "Name: 1764, dtype: object\n",
      "                 county     State Population  PerCapitaIncome    Poverty    ID\n",
      "1759     Loudoun County  Virginia     374558     50391.015625   3.884375  1760\n",
      "3046  Washington County    Oregon     572071     34970.817308  10.446154  3047\n",
      "1234      Harlan County  Kentucky      27548     16010.363636  33.318182  1235\n",
      "1822     Malheur County    Oregon      30421     17966.428571  24.414286  1823\n"
     ]
    }
   ],
   "source": [
    "import pandas as pd\n",
    "\n",
    "acs_data = pd.read_csv(\"census_data.csv\")\n",
    "\n",
    "\n",
    "required_columns = ['County', 'State', 'TotalPop', 'IncomePerCap', 'Poverty']\n",
    "acs_data_filtered = acs_data[required_columns].copy()\n",
    "\n",
    "\n",
    "# Create a new column 'ID' as a unique identifier for the county\n",
    "acs_data_filtered['ID'] = range(len(acs_data_filtered))\n",
    "\n",
    "# Group the data by 'County' and 'State' and aggregate the values using appropriate aggregation functions\n",
    "aggregated_data = acs_data_filtered.groupby(['County', 'State']).agg({'TotalPop': 'sum', 'IncomePerCap': 'mean', 'Poverty': 'mean'})\n",
    "\n",
    "# Reset the index of the aggregated DataFrame\n",
    "County_Info = aggregated_data.reset_index()\n",
    "\n",
    "# Identify the most populous county\n",
    "most_populous_county = County_Info.loc[County_Info['TotalPop'].idxmax()]\n",
    "print(\"Most populous county:\")\n",
    "print(most_populous_county[['County', 'State', 'TotalPop']])\n",
    "\n",
    "# Identify the least populous county\n",
    "least_populous_county = County_Info.loc[County_Info['TotalPop'].idxmin()]\n",
    "print(\"Least populous county:\")\n",
    "print(least_populous_county[['County', 'State', 'TotalPop']])\n",
    "\n",
    "# Rename the columns to match the desired column names\n",
    "County_Info.rename(columns={'County': 'county','TotalPop': 'Population', 'IncomePerCap': 'PerCapitaIncome'}, inplace=True)\n",
    "\n",
    "# Reset the 'ID' column to start from 1\n",
    "County_Info['ID'] = County_Info.index + 1\n",
    "\n",
    "\n",
    "county_inputs = [\"Loudoun County, Virginia\", \"Washington County, Oregon\", \"Harlan County, Kentucky\", \"Malheur County, Oregon\"]\n",
    "\n",
    "# Initialize an empty DataFrame with the same columns as County_Info\n",
    "county_details = pd.DataFrame(columns=County_Info.columns)\n",
    "\n",
    "for input_county in county_inputs:\n",
    "    county_name, state_name = input_county.split(\", \")\n",
    "    details = County_Info[(County_Info['county'] == county_name) & (County_Info['State'] == state_name)]\n",
    "    county_details = pd.concat([county_details, details])\n",
    "\n",
    "print(county_details)"
   ]
  },
  {
   "cell_type": "code",
   "execution_count": 31,
   "id": "ac574517",
   "metadata": {},
   "outputs": [
    {
     "name": "stdout",
     "output_type": "stream",
     "text": [
      "          ID    Month  cases  deaths   county\n",
      "25593  25594  2020-08  28163   459.0  Malheur\n",
      "25598  25599  2021-01  96297  1627.0  Malheur\n",
      "25599  25600  2021-02  65951  1137.0  Malheur\n"
     ]
    }
   ],
   "source": [
    "    \n",
    "covid_data = pd.read_csv(\"covid_county.csv\")\n",
    "\n",
    "# # Assuming the dataset is stored in a DataFrame called 'covid_data'\n",
    "covid_data['ID'] = covid_data['county'] + '_' + covid_data['state']\n",
    "covid_data['ID'] = pd.factorize(covid_data['ID'])[0] + 1\n",
    "\n",
    "covid_data['date'] = pd.to_datetime(covid_data['date'], format='%Y-%m-%d')\n",
    "\n",
    "covid_data['month'] = covid_data['date'].dt.to_period('M')\n",
    "\n",
    "\n",
    "covid_data_monthly = covid_data.groupby(['ID', 'month']).agg({\n",
    "    'cases': 'sum',\n",
    "    'deaths': 'sum',\n",
    "    'county': 'first'\n",
    "}).reset_index()\n",
    "\n",
    "covid_data_monthly['ID'] = range(1, len(covid_data_monthly) + 1)\n",
    "covid_data_monthly = covid_data_monthly[['ID', 'month', 'cases', 'deaths', 'county']].copy()\n",
    "\n",
    "covid_data_monthly.columns = ['ID', 'Month', 'cases', 'deaths', 'county']\n",
    "\n",
    "\n",
    "selected_months = ['2020-08', '2021-01', '2021-02']\n",
    "selected_county = 'Malheur'\n",
    "covid_report = covid_data_monthly[(covid_data_monthly['county'] == selected_county) & \n",
    "                              (covid_data_monthly['Month'].astype(str).isin(selected_months))]\n",
    "\n",
    "print(covid_report)"
   ]
  },
  {
   "cell_type": "code",
   "execution_count": 30,
   "id": "614b7479",
   "metadata": {},
   "outputs": [
    {
     "name": "stdout",
     "output_type": "stream",
     "text": [
      "Poverty Percentage:\n",
      "              county     State    Poverty\n",
      "0      Harlan County  Kentucky  33.318182\n",
      "1     Loudoun County  Virginia   3.884375\n",
      "2     Malheur County    Oregon  24.414286\n",
      "3  Washington County    Oregon  10.446154\n",
      "\n",
      "Total Cases per 100K:\n",
      "              county     State  TotalCasesPer100K\n",
      "0      Harlan County  Kentucky         1671979.82\n",
      "1     Loudoun County  Virginia            3086.84\n",
      "2     Malheur County    Oregon          542792.81\n",
      "3  Washington County    Oregon           61741.46\n"
     ]
    }
   ],
   "source": [
    "\n",
    "covid_summary = (covid_data_monthly.groupby(\"ID\").agg({\"cases\": \"sum\", \"deaths\": \"sum\"}).reset_index())\n",
    "covid_summary.rename(columns={\"cases\": \"TotalCases\", \"deaths\": \"TotalDeaths\"}, inplace=True)\n",
    "covid_summary = pd.merge(covid_summary, County_Info, how=\"left\", on=\"ID\")\n",
    "covid_summary[\"TotalCasesPer100K\"] = round((covid_summary[\"TotalCases\"]) / (covid_summary[\"Population\"] / 100000), 2)\n",
    "covid_summary[\"TotalDeathsPer100K\"] = round((covid_summary[\"TotalDeaths\"]) / (covid_summary[\"Population\"] / 100000), 2)\n",
    "\n",
    "\n",
    "counties = [('Washington County', 'Oregon'), ('Malheur County', 'Oregon'), ('Loudoun County', 'Virginia'), ('Harlan County', 'Kentucky')]\n",
    "\n",
    "# Convert the list of tuples into a DataFrame for easier merging\n",
    "county_state_df = pd.DataFrame(counties, columns=['county', 'State'])\n",
    "filtered_df = pd.merge(covid_summary, county_state_df, on=['county', 'State'], how='inner')\n",
    "\n",
    "# Extract the 'Poverty%' and 'TotalCasesPer100K' values for the specified counties\n",
    "poverty_percentage = filtered_df[['county', 'State', 'Poverty']]\n",
    "total_cases_per_100k = filtered_df[['county', 'State', 'TotalCasesPer100K']]\n",
    "\n",
    "# Print the results\n",
    "print(\"Poverty Percentage:\")\n",
    "print(poverty_percentage)\n",
    "print(\"\\nTotal Cases per 100K:\")\n",
    "print(total_cases_per_100k)"
   ]
  }
 ],
 "metadata": {
  "kernelspec": {
   "display_name": "Python 3 (ipykernel)",
   "language": "python",
   "name": "python3"
  },
  "language_info": {
   "codemirror_mode": {
    "name": "ipython",
    "version": 3
   },
   "file_extension": ".py",
   "mimetype": "text/x-python",
   "name": "python",
   "nbconvert_exporter": "python",
   "pygments_lexer": "ipython3",
   "version": "3.10.9"
  }
 },
 "nbformat": 4,
 "nbformat_minor": 5
}
